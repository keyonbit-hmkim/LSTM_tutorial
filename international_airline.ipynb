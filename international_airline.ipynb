{
 "cells": [
  {
   "cell_type": "markdown",
   "metadata": {},
   "source": [
    "URL : https://steemit.com/kr/@codingart/6-24-keras-lstm-airline-market-rnn-2\n",
    "\n",
    "URL_data : https://www.kaggle.com/andreazzini/international-airline-passengers?select=international-airline-passengers.csv\n",
    "\n",
    "## Problem Description - 국제선 여객 예측 문제\n",
    "- 년 단위 항공기 이용 승객 데이터를 이용하여 다음번 승객의 수를 예측\n",
    "- 1949년 1월 ~ 1960년 12월 까지 12년 동안의 144회 데이터"
   ]
  },
  {
   "cell_type": "code",
   "execution_count": 33,
   "metadata": {
    "execution": {
     "iopub.execute_input": "2021-01-13T04:35:05.229029Z",
     "iopub.status.busy": "2021-01-13T04:35:05.228373Z",
     "iopub.status.idle": "2021-01-13T04:35:05.234243Z",
     "shell.execute_reply": "2021-01-13T04:35:05.233864Z",
     "shell.execute_reply.started": "2021-01-13T04:35:05.228920Z"
    }
   },
   "outputs": [],
   "source": [
    "import pandas as pd\n",
    "import matplotlib.pyplot as plt\n",
    "import numpy as np\n",
    "import math\n",
    "\n",
    "from tensorflow.keras.models import Sequential\n",
    "from tensorflow.keras.layers import Dense\n",
    "from tensorflow.keras.layers import LSTM\n",
    "\n",
    "from sklearn.preprocessing import MinMaxScaler\n",
    "from sklearn.metrics import mean_squared_error"
   ]
  },
  {
   "cell_type": "code",
   "execution_count": 34,
   "metadata": {
    "execution": {
     "iopub.execute_input": "2021-01-13T04:35:05.719776Z",
     "iopub.status.busy": "2021-01-13T04:35:05.719161Z",
     "iopub.status.idle": "2021-01-13T04:35:05.725850Z",
     "shell.execute_reply": "2021-01-13T04:35:05.725579Z",
     "shell.execute_reply.started": "2021-01-13T04:35:05.719700Z"
    }
   },
   "outputs": [],
   "source": [
    "data = pd.read_csv('data/international-airline-passengers.csv', skiprows=1, names = ['Month', 'Passengers'], nrows=144)"
   ]
  },
  {
   "cell_type": "code",
   "execution_count": 35,
   "metadata": {
    "execution": {
     "iopub.execute_input": "2021-01-13T04:35:05.805733Z",
     "iopub.status.busy": "2021-01-13T04:35:05.805155Z",
     "iopub.status.idle": "2021-01-13T04:35:05.824338Z",
     "shell.execute_reply": "2021-01-13T04:35:05.823420Z",
     "shell.execute_reply.started": "2021-01-13T04:35:05.805660Z"
    }
   },
   "outputs": [
    {
     "data": {
      "text/html": [
       "<div>\n",
       "<style scoped>\n",
       "    .dataframe tbody tr th:only-of-type {\n",
       "        vertical-align: middle;\n",
       "    }\n",
       "\n",
       "    .dataframe tbody tr th {\n",
       "        vertical-align: top;\n",
       "    }\n",
       "\n",
       "    .dataframe thead th {\n",
       "        text-align: right;\n",
       "    }\n",
       "</style>\n",
       "<table border=\"1\" class=\"dataframe\">\n",
       "  <thead>\n",
       "    <tr style=\"text-align: right;\">\n",
       "      <th></th>\n",
       "      <th>Month</th>\n",
       "      <th>Passengers</th>\n",
       "    </tr>\n",
       "  </thead>\n",
       "  <tbody>\n",
       "    <tr>\n",
       "      <th>0</th>\n",
       "      <td>1949-01</td>\n",
       "      <td>112</td>\n",
       "    </tr>\n",
       "    <tr>\n",
       "      <th>1</th>\n",
       "      <td>1949-02</td>\n",
       "      <td>118</td>\n",
       "    </tr>\n",
       "    <tr>\n",
       "      <th>2</th>\n",
       "      <td>1949-03</td>\n",
       "      <td>132</td>\n",
       "    </tr>\n",
       "    <tr>\n",
       "      <th>3</th>\n",
       "      <td>1949-04</td>\n",
       "      <td>129</td>\n",
       "    </tr>\n",
       "    <tr>\n",
       "      <th>4</th>\n",
       "      <td>1949-05</td>\n",
       "      <td>121</td>\n",
       "    </tr>\n",
       "  </tbody>\n",
       "</table>\n",
       "</div>"
      ],
      "text/plain": [
       "     Month  Passengers\n",
       "0  1949-01         112\n",
       "1  1949-02         118\n",
       "2  1949-03         132\n",
       "3  1949-04         129\n",
       "4  1949-05         121"
      ]
     },
     "execution_count": 35,
     "metadata": {},
     "output_type": "execute_result"
    }
   ],
   "source": [
    "data.head()"
   ]
  },
  {
   "cell_type": "code",
   "execution_count": 36,
   "metadata": {
    "execution": {
     "iopub.execute_input": "2021-01-13T04:35:05.886758Z",
     "iopub.status.busy": "2021-01-13T04:35:05.886522Z",
     "iopub.status.idle": "2021-01-13T04:35:05.897062Z",
     "shell.execute_reply": "2021-01-13T04:35:05.895899Z",
     "shell.execute_reply.started": "2021-01-13T04:35:05.886727Z"
    }
   },
   "outputs": [
    {
     "data": {
      "text/html": [
       "<div>\n",
       "<style scoped>\n",
       "    .dataframe tbody tr th:only-of-type {\n",
       "        vertical-align: middle;\n",
       "    }\n",
       "\n",
       "    .dataframe tbody tr th {\n",
       "        vertical-align: top;\n",
       "    }\n",
       "\n",
       "    .dataframe thead th {\n",
       "        text-align: right;\n",
       "    }\n",
       "</style>\n",
       "<table border=\"1\" class=\"dataframe\">\n",
       "  <thead>\n",
       "    <tr style=\"text-align: right;\">\n",
       "      <th></th>\n",
       "      <th>Month</th>\n",
       "      <th>Passengers</th>\n",
       "    </tr>\n",
       "  </thead>\n",
       "  <tbody>\n",
       "    <tr>\n",
       "      <th>139</th>\n",
       "      <td>1960-08</td>\n",
       "      <td>606</td>\n",
       "    </tr>\n",
       "    <tr>\n",
       "      <th>140</th>\n",
       "      <td>1960-09</td>\n",
       "      <td>508</td>\n",
       "    </tr>\n",
       "    <tr>\n",
       "      <th>141</th>\n",
       "      <td>1960-10</td>\n",
       "      <td>461</td>\n",
       "    </tr>\n",
       "    <tr>\n",
       "      <th>142</th>\n",
       "      <td>1960-11</td>\n",
       "      <td>390</td>\n",
       "    </tr>\n",
       "    <tr>\n",
       "      <th>143</th>\n",
       "      <td>1960-12</td>\n",
       "      <td>432</td>\n",
       "    </tr>\n",
       "  </tbody>\n",
       "</table>\n",
       "</div>"
      ],
      "text/plain": [
       "       Month  Passengers\n",
       "139  1960-08         606\n",
       "140  1960-09         508\n",
       "141  1960-10         461\n",
       "142  1960-11         390\n",
       "143  1960-12         432"
      ]
     },
     "execution_count": 36,
     "metadata": {},
     "output_type": "execute_result"
    }
   ],
   "source": [
    "data.tail()"
   ]
  },
  {
   "cell_type": "code",
   "execution_count": 37,
   "metadata": {
    "execution": {
     "iopub.execute_input": "2021-01-13T04:35:05.968522Z",
     "iopub.status.busy": "2021-01-13T04:35:05.967966Z",
     "iopub.status.idle": "2021-01-13T04:35:05.990935Z",
     "shell.execute_reply": "2021-01-13T04:35:05.988765Z",
     "shell.execute_reply.started": "2021-01-13T04:35:05.968449Z"
    }
   },
   "outputs": [
    {
     "name": "stdout",
     "output_type": "stream",
     "text": [
      "<class 'pandas.core.frame.DataFrame'>\n",
      "RangeIndex: 144 entries, 0 to 143\n",
      "Data columns (total 2 columns):\n",
      " #   Column      Non-Null Count  Dtype \n",
      "---  ------      --------------  ----- \n",
      " 0   Month       144 non-null    object\n",
      " 1   Passengers  144 non-null    int64 \n",
      "dtypes: int64(1), object(1)\n",
      "memory usage: 2.4+ KB\n"
     ]
    }
   ],
   "source": [
    "data.info()"
   ]
  },
  {
   "cell_type": "code",
   "execution_count": 38,
   "metadata": {
    "execution": {
     "iopub.execute_input": "2021-01-13T04:35:06.054772Z",
     "iopub.status.busy": "2021-01-13T04:35:06.054196Z",
     "iopub.status.idle": "2021-01-13T04:35:06.085552Z",
     "shell.execute_reply": "2021-01-13T04:35:06.083637Z",
     "shell.execute_reply.started": "2021-01-13T04:35:06.054698Z"
    }
   },
   "outputs": [
    {
     "data": {
      "text/html": [
       "<div>\n",
       "<style scoped>\n",
       "    .dataframe tbody tr th:only-of-type {\n",
       "        vertical-align: middle;\n",
       "    }\n",
       "\n",
       "    .dataframe tbody tr th {\n",
       "        vertical-align: top;\n",
       "    }\n",
       "\n",
       "    .dataframe thead th {\n",
       "        text-align: right;\n",
       "    }\n",
       "</style>\n",
       "<table border=\"1\" class=\"dataframe\">\n",
       "  <thead>\n",
       "    <tr style=\"text-align: right;\">\n",
       "      <th></th>\n",
       "      <th>Passengers</th>\n",
       "    </tr>\n",
       "  </thead>\n",
       "  <tbody>\n",
       "    <tr>\n",
       "      <th>count</th>\n",
       "      <td>144.000000</td>\n",
       "    </tr>\n",
       "    <tr>\n",
       "      <th>mean</th>\n",
       "      <td>280.298611</td>\n",
       "    </tr>\n",
       "    <tr>\n",
       "      <th>std</th>\n",
       "      <td>119.966317</td>\n",
       "    </tr>\n",
       "    <tr>\n",
       "      <th>min</th>\n",
       "      <td>104.000000</td>\n",
       "    </tr>\n",
       "    <tr>\n",
       "      <th>25%</th>\n",
       "      <td>180.000000</td>\n",
       "    </tr>\n",
       "    <tr>\n",
       "      <th>50%</th>\n",
       "      <td>265.500000</td>\n",
       "    </tr>\n",
       "    <tr>\n",
       "      <th>75%</th>\n",
       "      <td>360.500000</td>\n",
       "    </tr>\n",
       "    <tr>\n",
       "      <th>max</th>\n",
       "      <td>622.000000</td>\n",
       "    </tr>\n",
       "  </tbody>\n",
       "</table>\n",
       "</div>"
      ],
      "text/plain": [
       "       Passengers\n",
       "count  144.000000\n",
       "mean   280.298611\n",
       "std    119.966317\n",
       "min    104.000000\n",
       "25%    180.000000\n",
       "50%    265.500000\n",
       "75%    360.500000\n",
       "max    622.000000"
      ]
     },
     "execution_count": 38,
     "metadata": {},
     "output_type": "execute_result"
    }
   ],
   "source": [
    "data.describe()"
   ]
  },
  {
   "cell_type": "markdown",
   "metadata": {},
   "source": [
    "#### Passengers plot"
   ]
  },
  {
   "cell_type": "code",
   "execution_count": 39,
   "metadata": {
    "execution": {
     "iopub.execute_input": "2021-01-13T04:35:06.218353Z",
     "iopub.status.busy": "2021-01-13T04:35:06.218121Z",
     "iopub.status.idle": "2021-01-13T04:35:06.322991Z",
     "shell.execute_reply": "2021-01-13T04:35:06.322543Z",
     "shell.execute_reply.started": "2021-01-13T04:35:06.218323Z"
    }
   },
   "outputs": [
    {
     "data": {
      "image/png": "[encoded data removed]",
      "text/plain": [
       "<Figure size 432x288 with 1 Axes>"
      ]
     },
     "metadata": {
      "needs_background": "light"
     },
     "output_type": "display_data"
    }
   ],
   "source": [
    "plt.plot(data['Passengers'])\n",
    "plt.show()"
   ]
  },
  {
   "cell_type": "markdown",
   "metadata": {},
   "source": [
    "#### Preprocessing"
   ]
  },
  {
   "cell_type": "code",
   "execution_count": 40,
   "metadata": {
    "execution": {
     "iopub.execute_input": "2021-01-13T04:35:06.387266Z",
     "iopub.status.busy": "2021-01-13T04:35:06.387084Z",
     "iopub.status.idle": "2021-01-13T04:35:06.390789Z",
     "shell.execute_reply": "2021-01-13T04:35:06.390177Z",
     "shell.execute_reply.started": "2021-01-13T04:35:06.387242Z"
    }
   },
   "outputs": [],
   "source": [
    "dataset = data[['Passengers']]\n",
    "# dataset = dataset.astype('float32')\n",
    "# dataset = dataset.reshape(-1, 1).shape"
   ]
  },
  {
   "cell_type": "code",
   "execution_count": 41,
   "metadata": {
    "execution": {
     "iopub.execute_input": "2021-01-13T04:35:06.471488Z",
     "iopub.status.busy": "2021-01-13T04:35:06.470913Z",
     "iopub.status.idle": "2021-01-13T04:35:06.490026Z",
     "shell.execute_reply": "2021-01-13T04:35:06.487707Z",
     "shell.execute_reply.started": "2021-01-13T04:35:06.471414Z"
    }
   },
   "outputs": [],
   "source": [
    "scaler = MinMaxScaler(feature_range=(0, 1))\n",
    "dataset = scaler.fit_transform(dataset)"
   ]
  },
  {
   "cell_type": "markdown",
   "metadata": {},
   "source": [
    "- 예측할 값만 가져와서 스케일러 적용"
   ]
  },
  {
   "cell_type": "markdown",
   "metadata": {},
   "source": [
    "#### x, y 함수 생성 (x는 바로 앞의 값)"
   ]
  },
  {
   "cell_type": "code",
   "execution_count": 42,
   "metadata": {
    "execution": {
     "iopub.execute_input": "2021-01-13T04:35:06.728203Z",
     "iopub.status.busy": "2021-01-13T04:35:06.727615Z",
     "iopub.status.idle": "2021-01-13T04:35:06.734044Z",
     "shell.execute_reply": "2021-01-13T04:35:06.733722Z",
     "shell.execute_reply.started": "2021-01-13T04:35:06.728128Z"
    }
   },
   "outputs": [],
   "source": [
    "def create_dataset(dataset, look_back=1): # len(dataset)이 144 이므로 range는 142 즉, 인덱스 i는 0 ~ 141까지\n",
    "    dataX, dataY = [], []\n",
    "    for i in range(len(dataset) - look_back-1): # 마지막 dataset[141:142, 0]\n",
    "        a = dataset[i: (i+look_back), 0]\n",
    "        dataX.append(a)\n",
    "        dataY.append(dataset[i + look_back, 0]) # dataset[142, 0 ]은 143번 데이터 144개의 마지막 데이터에 해당\n",
    "    return np.array(dataX), np.array(dataY)"
   ]
  },
  {
   "cell_type": "markdown",
   "metadata": {},
   "source": [
    "- 데이터를 입력 데이터의 다음 스텝을 지정"
   ]
  },
  {
   "cell_type": "markdown",
   "metadata": {},
   "source": [
    "#### Train, Test Split"
   ]
  },
  {
   "cell_type": "code",
   "execution_count": 43,
   "metadata": {
    "execution": {
     "iopub.execute_input": "2021-01-13T04:35:06.973916Z",
     "iopub.status.busy": "2021-01-13T04:35:06.973357Z",
     "iopub.status.idle": "2021-01-13T04:35:06.982512Z",
     "shell.execute_reply": "2021-01-13T04:35:06.980719Z",
     "shell.execute_reply.started": "2021-01-13T04:35:06.973843Z"
    }
   },
   "outputs": [],
   "source": [
    "train_size = int(len(dataset) * 0.67)\n",
    "test_size = len(dataset) - train_size\n",
    "train, test = dataset[0:train_size, :], dataset[train_size:len(dataset),:]"
   ]
  },
  {
   "cell_type": "code",
   "execution_count": 44,
   "metadata": {
    "execution": {
     "iopub.execute_input": "2021-01-13T04:35:07.063387Z",
     "iopub.status.busy": "2021-01-13T04:35:07.062829Z",
     "iopub.status.idle": "2021-01-13T04:35:07.073989Z",
     "shell.execute_reply": "2021-01-13T04:35:07.072124Z",
     "shell.execute_reply.started": "2021-01-13T04:35:07.063314Z"
    }
   },
   "outputs": [
    {
     "data": {
      "text/plain": [
       "(96, 48)"
      ]
     },
     "execution_count": 44,
     "metadata": {},
     "output_type": "execute_result"
    }
   ],
   "source": [
    "len(train), len(test)"
   ]
  },
  {
   "cell_type": "markdown",
   "metadata": {},
   "source": [
    "#### x, y 생성"
   ]
  },
  {
   "cell_type": "code",
   "execution_count": 45,
   "metadata": {
    "execution": {
     "iopub.execute_input": "2021-01-13T04:35:07.226309Z",
     "iopub.status.busy": "2021-01-13T04:35:07.225730Z",
     "iopub.status.idle": "2021-01-13T04:35:07.235621Z",
     "shell.execute_reply": "2021-01-13T04:35:07.233432Z",
     "shell.execute_reply.started": "2021-01-13T04:35:07.226235Z"
    }
   },
   "outputs": [],
   "source": [
    "look_back = 1\n",
    "trainX, trainY = create_dataset(train, look_back)\n",
    "testX, testy = create_dataset(test, look_back)"
   ]
  },
  {
   "cell_type": "code",
   "execution_count": 46,
   "metadata": {
    "execution": {
     "iopub.execute_input": "2021-01-13T04:35:07.313187Z",
     "iopub.status.busy": "2021-01-13T04:35:07.312601Z",
     "iopub.status.idle": "2021-01-13T04:35:07.322252Z",
     "shell.execute_reply": "2021-01-13T04:35:07.320297Z",
     "shell.execute_reply.started": "2021-01-13T04:35:07.313113Z"
    }
   },
   "outputs": [],
   "source": [
    "# LSTM 루틴에 입력할 수 있도록 2차원 텐서에서 3차원 텐서로 변경\n",
    "trainX = np.reshape(trainX, (trainX.shape[0], 1, trainX.shape[1]))\n",
    "testX = np.reshape(testX, (testX.shape[0], 1, testX.shape[1]))"
   ]
  },
  {
   "cell_type": "markdown",
   "metadata": {},
   "source": [
    "#### LSTM fit"
   ]
  },
  {
   "cell_type": "code",
   "execution_count": 47,
   "metadata": {
    "execution": {
     "iopub.execute_input": "2021-01-13T04:35:07.474337Z",
     "iopub.status.busy": "2021-01-13T04:35:07.473763Z",
     "iopub.status.idle": "2021-01-13T04:35:07.605852Z",
     "shell.execute_reply": "2021-01-13T04:35:07.605453Z",
     "shell.execute_reply.started": "2021-01-13T04:35:07.474263Z"
    }
   },
   "outputs": [],
   "source": [
    "model = Sequential()\n",
    "model.add(LSTM(4, input_shape = (1, look_back)))\n",
    "model.add(Dense(1)) # 입력 4개를 받아서, 1개를 출력"
   ]
  },
  {
   "cell_type": "code",
   "execution_count": 48,
   "metadata": {
    "execution": {
     "iopub.execute_input": "2021-01-13T04:35:07.606591Z",
     "iopub.status.busy": "2021-01-13T04:35:07.606471Z",
     "iopub.status.idle": "2021-01-13T04:35:07.609775Z",
     "shell.execute_reply": "2021-01-13T04:35:07.609397Z",
     "shell.execute_reply.started": "2021-01-13T04:35:07.606564Z"
    }
   },
   "outputs": [
    {
     "name": "stdout",
     "output_type": "stream",
     "text": [
      "Model: \"sequential_1\"\n",
      "_________________________________________________________________\n",
      "Layer (type)                 Output Shape              Param #   \n",
      "=================================================================\n",
      "lstm_1 (LSTM)                (None, 4)                 96        \n",
      "_________________________________________________________________\n",
      "dense_1 (Dense)              (None, 1)                 5         \n",
      "=================================================================\n",
      "Total params: 101\n",
      "Trainable params: 101\n",
      "Non-trainable params: 0\n",
      "_________________________________________________________________\n"
     ]
    }
   ],
   "source": [
    "model.summary()"
   ]
  },
  {
   "cell_type": "code",
   "execution_count": 49,
   "metadata": {
    "execution": {
     "iopub.execute_input": "2021-01-13T04:35:07.642687Z",
     "iopub.status.busy": "2021-01-13T04:35:07.642588Z",
     "iopub.status.idle": "2021-01-13T04:35:37.957375Z",
     "shell.execute_reply": "2021-01-13T04:35:37.957027Z",
     "shell.execute_reply.started": "2021-01-13T04:35:07.642674Z"
    }
   },
   "outputs": [
    {
     "name": "stdout",
     "output_type": "stream",
     "text": [
      "Epoch 1/100\n",
      "94/94 - 0s - loss: 0.0457\n",
      "Epoch 2/100\n",
      "94/94 - 0s - loss: 0.0218\n",
      "Epoch 3/100\n",
      "94/94 - 0s - loss: 0.0178\n",
      "Epoch 4/100\n",
      "94/94 - 0s - loss: 0.0165\n",
      "Epoch 5/100\n",
      "94/94 - 0s - loss: 0.0153\n",
      "Epoch 6/100\n",
      "94/94 - 1s - loss: 0.0143\n",
      "Epoch 7/100\n",
      "94/94 - 1s - loss: 0.0132\n",
      "Epoch 8/100\n",
      "94/94 - 1s - loss: 0.0122\n",
      "Epoch 9/100\n",
      "94/94 - 1s - loss: 0.0109\n",
      "Epoch 10/100\n",
      "94/94 - 1s - loss: 0.0099\n",
      "Epoch 11/100\n",
      "94/94 - 0s - loss: 0.0088\n",
      "Epoch 12/100\n",
      "94/94 - 0s - loss: 0.0078\n",
      "Epoch 13/100\n",
      "94/94 - 0s - loss: 0.0070\n",
      "Epoch 14/100\n",
      "94/94 - 1s - loss: 0.0060\n",
      "Epoch 15/100\n",
      "94/94 - 0s - loss: 0.0053\n",
      "Epoch 16/100\n",
      "94/94 - 0s - loss: 0.0046\n",
      "Epoch 17/100\n",
      "94/94 - 0s - loss: 0.0040\n",
      "Epoch 18/100\n",
      "94/94 - 0s - loss: 0.0034\n",
      "Epoch 19/100\n",
      "94/94 - 0s - loss: 0.0031\n",
      "Epoch 20/100\n",
      "94/94 - 0s - loss: 0.0029\n",
      "Epoch 21/100\n",
      "94/94 - 0s - loss: 0.0026\n",
      "Epoch 22/100\n",
      "94/94 - 0s - loss: 0.0024\n",
      "Epoch 23/100\n",
      "94/94 - 0s - loss: 0.0023\n",
      "Epoch 24/100\n",
      "94/94 - 0s - loss: 0.0022\n",
      "Epoch 25/100\n",
      "94/94 - 0s - loss: 0.0022\n",
      "Epoch 26/100\n",
      "94/94 - 0s - loss: 0.0021\n",
      "Epoch 27/100\n",
      "94/94 - 0s - loss: 0.0021\n",
      "Epoch 28/100\n",
      "94/94 - 0s - loss: 0.0021\n",
      "Epoch 29/100\n",
      "94/94 - 0s - loss: 0.0021\n",
      "Epoch 30/100\n",
      "94/94 - 0s - loss: 0.0021\n",
      "Epoch 31/100\n",
      "94/94 - 0s - loss: 0.0021\n",
      "Epoch 32/100\n",
      "94/94 - 0s - loss: 0.0021\n",
      "Epoch 33/100\n",
      "94/94 - 0s - loss: 0.0022\n",
      "Epoch 34/100\n",
      "94/94 - 0s - loss: 0.0021\n",
      "Epoch 35/100\n",
      "94/94 - 0s - loss: 0.0021\n",
      "Epoch 36/100\n",
      "94/94 - 0s - loss: 0.0021\n",
      "Epoch 37/100\n",
      "94/94 - 0s - loss: 0.0022\n",
      "Epoch 38/100\n",
      "94/94 - 0s - loss: 0.0021\n",
      "Epoch 39/100\n",
      "94/94 - 0s - loss: 0.0021\n",
      "Epoch 40/100\n",
      "94/94 - 0s - loss: 0.0021\n",
      "Epoch 41/100\n",
      "94/94 - 0s - loss: 0.0021\n",
      "Epoch 42/100\n",
      "94/94 - 0s - loss: 0.0021\n",
      "Epoch 43/100\n",
      "94/94 - 0s - loss: 0.0021\n",
      "Epoch 44/100\n",
      "94/94 - 0s - loss: 0.0020\n",
      "Epoch 45/100\n",
      "94/94 - 0s - loss: 0.0021\n",
      "Epoch 46/100\n",
      "94/94 - 0s - loss: 0.0021\n",
      "Epoch 47/100\n",
      "94/94 - 0s - loss: 0.0021\n",
      "Epoch 48/100\n",
      "94/94 - 0s - loss: 0.0021\n",
      "Epoch 49/100\n",
      "94/94 - 0s - loss: 0.0021\n",
      "Epoch 50/100\n",
      "94/94 - 1s - loss: 0.0021\n",
      "Epoch 51/100\n",
      "94/94 - 0s - loss: 0.0021\n",
      "Epoch 52/100\n",
      "94/94 - 0s - loss: 0.0021\n",
      "Epoch 53/100\n",
      "94/94 - 0s - loss: 0.0021\n",
      "Epoch 54/100\n",
      "94/94 - 0s - loss: 0.0021\n",
      "Epoch 55/100\n",
      "94/94 - 0s - loss: 0.0021\n",
      "Epoch 56/100\n",
      "94/94 - 0s - loss: 0.0022\n",
      "Epoch 57/100\n",
      "94/94 - 0s - loss: 0.0020\n",
      "Epoch 58/100\n",
      "94/94 - 1s - loss: 0.0022\n",
      "Epoch 59/100\n",
      "94/94 - 0s - loss: 0.0021\n",
      "Epoch 60/100\n",
      "94/94 - 0s - loss: 0.0021\n",
      "Epoch 61/100\n",
      "94/94 - 0s - loss: 0.0020\n",
      "Epoch 62/100\n",
      "94/94 - 0s - loss: 0.0021\n",
      "Epoch 63/100\n",
      "94/94 - 0s - loss: 0.0021\n",
      "Epoch 64/100\n",
      "94/94 - 1s - loss: 0.0020\n",
      "Epoch 65/100\n",
      "94/94 - 0s - loss: 0.0022\n",
      "Epoch 66/100\n",
      "94/94 - 0s - loss: 0.0022\n",
      "Epoch 67/100\n",
      "94/94 - 0s - loss: 0.0021\n",
      "Epoch 68/100\n",
      "94/94 - 0s - loss: 0.0021\n",
      "Epoch 69/100\n",
      "94/94 - 1s - loss: 0.0020\n",
      "Epoch 70/100\n",
      "94/94 - 0s - loss: 0.0023\n",
      "Epoch 71/100\n",
      "94/94 - 0s - loss: 0.0020\n",
      "Epoch 72/100\n",
      "94/94 - 0s - loss: 0.0021\n",
      "Epoch 73/100\n",
      "94/94 - 0s - loss: 0.0021\n",
      "Epoch 74/100\n",
      "94/94 - 1s - loss: 0.0021\n",
      "Epoch 75/100\n",
      "94/94 - 1s - loss: 0.0020\n",
      "Epoch 76/100\n",
      "94/94 - 0s - loss: 0.0021\n",
      "Epoch 77/100\n",
      "94/94 - 0s - loss: 0.0021\n",
      "Epoch 78/100\n",
      "94/94 - 0s - loss: 0.0022\n",
      "Epoch 79/100\n",
      "94/94 - 0s - loss: 0.0020\n",
      "Epoch 80/100\n",
      "94/94 - 0s - loss: 0.0021\n",
      "Epoch 81/100\n",
      "94/94 - 1s - loss: 0.0021\n",
      "Epoch 82/100\n",
      "94/94 - 1s - loss: 0.0021\n",
      "Epoch 83/100\n",
      "94/94 - 0s - loss: 0.0021\n",
      "Epoch 84/100\n",
      "94/94 - 0s - loss: 0.0020\n",
      "Epoch 85/100\n",
      "94/94 - 0s - loss: 0.0021\n",
      "Epoch 86/100\n",
      "94/94 - 0s - loss: 0.0021\n",
      "Epoch 87/100\n",
      "94/94 - 0s - loss: 0.0021\n",
      "Epoch 88/100\n",
      "94/94 - 0s - loss: 0.0021\n",
      "Epoch 89/100\n",
      "94/94 - 0s - loss: 0.0021\n",
      "Epoch 90/100\n",
      "94/94 - 0s - loss: 0.0021\n",
      "Epoch 91/100\n",
      "94/94 - 1s - loss: 0.0021\n",
      "Epoch 92/100\n",
      "94/94 - 0s - loss: 0.0021\n",
      "Epoch 93/100\n",
      "94/94 - 0s - loss: 0.0021\n",
      "Epoch 94/100\n",
      "94/94 - 0s - loss: 0.0021\n",
      "Epoch 95/100\n",
      "94/94 - 1s - loss: 0.0021\n",
      "Epoch 96/100\n",
      "94/94 - 1s - loss: 0.0020\n",
      "Epoch 97/100\n",
      "94/94 - 0s - loss: 0.0021\n",
      "Epoch 98/100\n",
      "94/94 - 0s - loss: 0.0020\n",
      "Epoch 99/100\n",
      "94/94 - 0s - loss: 0.0021\n",
      "Epoch 100/100\n",
      "94/94 - 0s - loss: 0.0021\n"
     ]
    },
    {
     "data": {
      "text/plain": [
       "<tensorflow.python.keras.callbacks.History at 0x7f9b98151eb0>"
      ]
     },
     "execution_count": 49,
     "metadata": {},
     "output_type": "execute_result"
    }
   ],
   "source": [
    "model.compile(loss='mean_squared_error', optimizer = 'adam')\n",
    "model.fit(trainX, trainY, epochs=100, batch_size =1, verbose=2)"
   ]
  },
  {
   "cell_type": "markdown",
   "metadata": {},
   "source": [
    "#### LSTM Prediction"
   ]
  },
  {
   "cell_type": "code",
   "execution_count": 50,
   "metadata": {
    "execution": {
     "iopub.execute_input": "2021-01-13T04:35:37.958034Z",
     "iopub.status.busy": "2021-01-13T04:35:37.957931Z",
     "iopub.status.idle": "2021-01-13T04:35:38.136479Z",
     "shell.execute_reply": "2021-01-13T04:35:38.136103Z",
     "shell.execute_reply.started": "2021-01-13T04:35:37.958020Z"
    }
   },
   "outputs": [],
   "source": [
    "# make predictions\n",
    "\n",
    "trainpredict = model.predict(trainX)\n",
    "testpredict = model.predict(testX)"
   ]
  },
  {
   "cell_type": "code",
   "execution_count": 51,
   "metadata": {
    "execution": {
     "iopub.execute_input": "2021-01-13T04:35:38.137259Z",
     "iopub.status.busy": "2021-01-13T04:35:38.137152Z",
     "iopub.status.idle": "2021-01-13T04:35:38.139684Z",
     "shell.execute_reply": "2021-01-13T04:35:38.139361Z",
     "shell.execute_reply.started": "2021-01-13T04:35:38.137245Z"
    }
   },
   "outputs": [],
   "source": [
    "# invert predictions\n",
    "\n",
    "trainpredict = scaler.inverse_transform(trainpredict)\n",
    "trainY = scaler.inverse_transform([trainY])\n",
    "testpredict = scaler.inverse_transform(testpredict)\n",
    "testy = scaler.inverse_transform([testy])"
   ]
  },
  {
   "cell_type": "markdown",
   "metadata": {},
   "source": [
    "#### Result"
   ]
  },
  {
   "cell_type": "code",
   "execution_count": 52,
   "metadata": {
    "execution": {
     "iopub.execute_input": "2021-01-13T04:35:38.140326Z",
     "iopub.status.busy": "2021-01-13T04:35:38.140224Z",
     "iopub.status.idle": "2021-01-13T04:35:38.143429Z",
     "shell.execute_reply": "2021-01-13T04:35:38.143113Z",
     "shell.execute_reply.started": "2021-01-13T04:35:38.140313Z"
    }
   },
   "outputs": [
    {
     "name": "stdout",
     "output_type": "stream",
     "text": [
      "Train Score : 23.098821249759162\n",
      "Test Score : 48.40781661024821\n"
     ]
    }
   ],
   "source": [
    "trainscore = mean_squared_error(trainY[0], trainpredict[:, 0], squared=False)\n",
    "print('Train Score :', trainscore)\n",
    "testscore = mean_squared_error(testy[0], testpredict[:, 0], squared=False)\n",
    "print('Test Score :', testscore)"
   ]
  },
  {
   "cell_type": "markdown",
   "metadata": {},
   "source": [
    "#### Plot"
   ]
  },
  {
   "cell_type": "code",
   "execution_count": 54,
   "metadata": {
    "execution": {
     "iopub.execute_input": "2021-01-13T04:36:12.985593Z",
     "iopub.status.busy": "2021-01-13T04:36:12.984920Z",
     "iopub.status.idle": "2021-01-13T04:36:12.990747Z",
     "shell.execute_reply": "2021-01-13T04:36:12.990420Z",
     "shell.execute_reply.started": "2021-01-13T04:36:12.985511Z"
    }
   },
   "outputs": [],
   "source": [
    "trainpredictplot = np.empty_like(dataset)\n",
    "trainpredictplot[:,:] = np.nan\n",
    "trainpredictplot[look_back:len(trainpredict) + look_back, :] = trainpredict"
   ]
  },
  {
   "cell_type": "code",
   "execution_count": 55,
   "metadata": {
    "execution": {
     "iopub.execute_input": "2021-01-13T04:36:13.924692Z",
     "iopub.status.busy": "2021-01-13T04:36:13.924050Z",
     "iopub.status.idle": "2021-01-13T04:36:13.929784Z",
     "shell.execute_reply": "2021-01-13T04:36:13.929446Z",
     "shell.execute_reply.started": "2021-01-13T04:36:13.924611Z"
    }
   },
   "outputs": [],
   "source": [
    "testpredictplot = np.empty_like(dataset)\n",
    "testpredictplot[:, :] = np.nan\n",
    "testpredictplot[len(trainpredict)+(look_back*2)+1:len(dataset)-1, :] = testpredict"
   ]
  },
  {
   "cell_type": "code",
   "execution_count": 57,
   "metadata": {
    "execution": {
     "iopub.execute_input": "2021-01-13T04:36:24.357834Z",
     "iopub.status.busy": "2021-01-13T04:36:24.357194Z",
     "iopub.status.idle": "2021-01-13T04:36:24.434135Z",
     "shell.execute_reply": "2021-01-13T04:36:24.433808Z",
     "shell.execute_reply.started": "2021-01-13T04:36:24.357755Z"
    }
   },
   "outputs": [
    {
     "data": {
      "image/png": "[encoded data removed]",
      "text/plain": [
       "<Figure size 432x288 with 1 Axes>"
      ]
     },
     "metadata": {
      "needs_background": "light"
     },
     "output_type": "display_data"
    }
   ],
   "source": [
    "plt.plot(scaler.inverse_transform(dataset))\n",
    "plt.plot(trainpredictplot)\n",
    "plt.plot(testpredictplot)\n",
    "plt.show()"
   ]
  }
 ],
 "metadata": {
  "kernelspec": {
   "display_name": "Python 3",
   "language": "python",
   "name": "python3"
  },
  "language_info": {
   "codemirror_mode": {
    "name": "ipython",
    "version": 3
   },
   "file_extension": ".py",
   "mimetype": "text/x-python",
   "name": "python",
   "nbconvert_exporter": "python",
   "pygments_lexer": "ipython3",
   "version": "3.8.5"
  }
 },
 "nbformat": 4,
 "nbformat_minor": 4
}
