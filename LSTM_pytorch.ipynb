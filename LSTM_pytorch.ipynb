{
 "cells": [
  {
   "cell_type": "markdown",
   "metadata": {},
   "source": [
    "URL : https://justkode.kr/deep-learning/pytorch-rnn\n",
    "\n",
    "#### Parameters\n",
    "- input_size : Input의 사이즈에 해당하는 수를 입력\n",
    "- hidden_size : 은닉층의 사이즈에 해당하는 수를 입력\n",
    "- num_layers : RNN의 은닉층 레이어 갯수를 나타냄\n",
    "- bias : 바이어스 값 활성화 여부를 선택\n",
    "- batch_first : True 일때, Output 값의 사이즈는 batch, seq, feature 가 됨, 기본값은 False\n",
    "- dropout : 드롭아웃 비율을 설정 기본값은 0\n",
    "- bidirectional : True일때 양방향 RNN이 됨, 기본값은 False"
   ]
  },
  {
   "cell_type": "code",
   "execution_count": 1,
   "metadata": {
    "execution": {
     "iopub.execute_input": "2021-01-13T04:41:20.292352Z",
     "iopub.status.busy": "2021-01-13T04:41:20.291636Z",
     "iopub.status.idle": "2021-01-13T04:41:20.543215Z",
     "shell.execute_reply": "2021-01-13T04:41:20.542819Z",
     "shell.execute_reply.started": "2021-01-13T04:41:20.292162Z"
    }
   },
   "outputs": [],
   "source": [
    "import numpy as np\n",
    "import torch\n",
    "import torch.nn as nn\n",
    "import torch.optim as optim"
   ]
  },
  {
   "cell_type": "markdown",
   "metadata": {},
   "source": [
    "#### Word Preprocessing"
   ]
  },
  {
   "cell_type": "code",
   "execution_count": 29,
   "metadata": {
    "execution": {
     "iopub.execute_input": "2021-01-13T05:04:12.887518Z",
     "iopub.status.busy": "2021-01-13T05:04:12.886912Z",
     "iopub.status.idle": "2021-01-13T05:04:12.892274Z",
     "shell.execute_reply": "2021-01-13T05:04:12.891794Z",
     "shell.execute_reply.started": "2021-01-13T05:04:12.887444Z"
    }
   },
   "outputs": [],
   "source": [
    "# sentences = ['i like dog', 'i love coffee', 'i hate milk', 'i like you', 'you like cat', 'you love me', 'you hate coffee', 'you love milk']\n",
    "sentences = [\"i like dog\", \"i love coffee\", \"i hate milk\", \"you like cat\", \"you love milk\", \"you hate coffee\"]\n",
    "dtype = torch.float"
   ]
  },
  {
   "cell_type": "code",
   "execution_count": 30,
   "metadata": {
    "execution": {
     "iopub.execute_input": "2021-01-13T05:04:13.187848Z",
     "iopub.status.busy": "2021-01-13T05:04:13.187269Z",
     "iopub.status.idle": "2021-01-13T05:04:13.200608Z",
     "shell.execute_reply": "2021-01-13T05:04:13.198196Z",
     "shell.execute_reply.started": "2021-01-13T05:04:13.187775Z"
    }
   },
   "outputs": [
    {
     "data": {
      "text/plain": [
       "['love', 'cat', 'i', 'coffee', 'dog', 'milk', 'like', 'hate', 'you']"
      ]
     },
     "execution_count": 30,
     "metadata": {},
     "output_type": "execute_result"
    }
   ],
   "source": [
    "word_list = list(set(\" \".join(sentences).split()))\n",
    "word_list"
   ]
  },
  {
   "cell_type": "code",
   "execution_count": 31,
   "metadata": {
    "execution": {
     "iopub.execute_input": "2021-01-13T05:04:13.442612Z",
     "iopub.status.busy": "2021-01-13T05:04:13.442498Z",
     "iopub.status.idle": "2021-01-13T05:04:13.445042Z",
     "shell.execute_reply": "2021-01-13T05:04:13.444571Z",
     "shell.execute_reply.started": "2021-01-13T05:04:13.442598Z"
    }
   },
   "outputs": [],
   "source": [
    "word_dict = {w : i for i, w in enumerate(word_list)}\n",
    "number_dict = {i:w for i, w in enumerate(word_list)}"
   ]
  },
  {
   "cell_type": "code",
   "execution_count": 32,
   "metadata": {
    "execution": {
     "iopub.execute_input": "2021-01-13T05:04:13.927405Z",
     "iopub.status.busy": "2021-01-13T05:04:13.926814Z",
     "iopub.status.idle": "2021-01-13T05:04:13.932282Z",
     "shell.execute_reply": "2021-01-13T05:04:13.931669Z",
     "shell.execute_reply.started": "2021-01-13T05:04:13.927332Z"
    }
   },
   "outputs": [
    {
     "data": {
      "text/plain": [
       "{'love': 0,\n",
       " 'cat': 1,\n",
       " 'i': 2,\n",
       " 'coffee': 3,\n",
       " 'dog': 4,\n",
       " 'milk': 5,\n",
       " 'like': 6,\n",
       " 'hate': 7,\n",
       " 'you': 8}"
      ]
     },
     "execution_count": 32,
     "metadata": {},
     "output_type": "execute_result"
    }
   ],
   "source": [
    "word_dict"
   ]
  },
  {
   "cell_type": "code",
   "execution_count": 33,
   "metadata": {
    "execution": {
     "iopub.execute_input": "2021-01-13T05:04:14.520098Z",
     "iopub.status.busy": "2021-01-13T05:04:14.519525Z",
     "iopub.status.idle": "2021-01-13T05:04:14.525878Z",
     "shell.execute_reply": "2021-01-13T05:04:14.525327Z",
     "shell.execute_reply.started": "2021-01-13T05:04:14.520026Z"
    }
   },
   "outputs": [
    {
     "data": {
      "text/plain": [
       "{0: 'love',\n",
       " 1: 'cat',\n",
       " 2: 'i',\n",
       " 3: 'coffee',\n",
       " 4: 'dog',\n",
       " 5: 'milk',\n",
       " 6: 'like',\n",
       " 7: 'hate',\n",
       " 8: 'you'}"
      ]
     },
     "execution_count": 33,
     "metadata": {},
     "output_type": "execute_result"
    }
   ],
   "source": [
    "number_dict"
   ]
  },
  {
   "cell_type": "markdown",
   "metadata": {},
   "source": [
    "#### Text RNN Parameter"
   ]
  },
  {
   "cell_type": "code",
   "execution_count": 34,
   "metadata": {
    "execution": {
     "iopub.execute_input": "2021-01-13T05:04:15.365281Z",
     "iopub.status.busy": "2021-01-13T05:04:15.364623Z",
     "iopub.status.idle": "2021-01-13T05:04:15.370129Z",
     "shell.execute_reply": "2021-01-13T05:04:15.369789Z",
     "shell.execute_reply.started": "2021-01-13T05:04:15.365206Z"
    }
   },
   "outputs": [],
   "source": [
    "batch_size = len(sentences)\n",
    "n_step = 2 # 학습하려고 하는 문장의 길이 - 1\n",
    "n_hidden = 5 # 은닉층 사이즈\n",
    "n_class = len(word_dict)"
   ]
  },
  {
   "cell_type": "code",
   "execution_count": 35,
   "metadata": {
    "execution": {
     "iopub.execute_input": "2021-01-13T05:04:15.659517Z",
     "iopub.status.busy": "2021-01-13T05:04:15.658938Z",
     "iopub.status.idle": "2021-01-13T05:04:15.673259Z",
     "shell.execute_reply": "2021-01-13T05:04:15.670585Z",
     "shell.execute_reply.started": "2021-01-13T05:04:15.659446Z"
    }
   },
   "outputs": [],
   "source": [
    "def make_batch(sentences):\n",
    "    input_batch = []\n",
    "    target_batch = []\n",
    "    \n",
    "    for sen in sentences:\n",
    "        word = sen.split()\n",
    "        input = [word_dict[n] for n in word[:-1]]\n",
    "        target = word_dict[word[-1]]\n",
    "        \n",
    "        input_batch.append(np.eye(n_class)[input]) # onthot encoding\n",
    "        target_batch.append(target)\n",
    "        \n",
    "    return input_batch, target_batch"
   ]
  },
  {
   "cell_type": "code",
   "execution_count": 36,
   "metadata": {
    "execution": {
     "iopub.execute_input": "2021-01-13T05:04:15.929556Z",
     "iopub.status.busy": "2021-01-13T05:04:15.928914Z",
     "iopub.status.idle": "2021-01-13T05:04:15.934543Z",
     "shell.execute_reply": "2021-01-13T05:04:15.934121Z",
     "shell.execute_reply.started": "2021-01-13T05:04:15.929481Z"
    }
   },
   "outputs": [],
   "source": [
    "input_batch, target_batch = make_batch(sentences)\n",
    "input_batch = torch.tensor(input_batch, dtype = torch.float32,  requires_grad=True)\n",
    "target_batch = torch.tensor(target_batch, dtype = torch.int64)"
   ]
  },
  {
   "cell_type": "markdown",
   "metadata": {},
   "source": [
    "#### Text LSTM"
   ]
  },
  {
   "cell_type": "code",
   "execution_count": 37,
   "metadata": {
    "execution": {
     "iopub.execute_input": "2021-01-13T05:04:16.544054Z",
     "iopub.status.busy": "2021-01-13T05:04:16.543481Z",
     "iopub.status.idle": "2021-01-13T05:04:16.550499Z",
     "shell.execute_reply": "2021-01-13T05:04:16.550042Z",
     "shell.execute_reply.started": "2021-01-13T05:04:16.543982Z"
    }
   },
   "outputs": [],
   "source": [
    "class TextLSTM(nn.Module):\n",
    "    def __init__(self):\n",
    "        super(TextLSTM, self).__init__()\n",
    "        \n",
    "        self.lstm = nn.LSTM(input_size = n_class, hidden_size = n_hidden, dropout = 0.3)\n",
    "        self.W = nn.Parameter(torch.randn([n_hidden, n_class]).type(dtype))\n",
    "        self.b = nn.Parameter(torch.randn([n_class]).type(dtype))\n",
    "        self.Softmax = nn.Softmax(dim = 1)\n",
    "        \n",
    "    def forward(self, hidden_and_cell, X):\n",
    "        X = X.transpose(0, 1)\n",
    "        outputs, hidden = self.lstm(X, hidden_and_cell)\n",
    "        outputs = outputs[-1] # 최종 예측 hidden layer\n",
    "        model = torch.mm(outputs, self.W) + self.b # 최종 예측, 최종 출력 층\n",
    "        return model"
   ]
  },
  {
   "cell_type": "markdown",
   "metadata": {},
   "source": [
    "#### Training"
   ]
  },
  {
   "cell_type": "code",
   "execution_count": 38,
   "metadata": {
    "execution": {
     "iopub.execute_input": "2021-01-13T05:04:17.206513Z",
     "iopub.status.busy": "2021-01-13T05:04:17.205915Z",
     "iopub.status.idle": "2021-01-13T05:04:17.212247Z",
     "shell.execute_reply": "2021-01-13T05:04:17.211747Z",
     "shell.execute_reply.started": "2021-01-13T05:04:17.206439Z"
    }
   },
   "outputs": [],
   "source": [
    "model = TextLSTM()\n",
    "criterion = nn.CrossEntropyLoss()\n",
    "optimizer = optim.Adam(model.parameters(), lr = 0.01)"
   ]
  },
  {
   "cell_type": "code",
   "execution_count": 39,
   "metadata": {
    "execution": {
     "iopub.execute_input": "2021-01-13T05:04:17.540072Z",
     "iopub.status.busy": "2021-01-13T05:04:17.539477Z",
     "iopub.status.idle": "2021-01-13T05:04:17.998184Z",
     "shell.execute_reply": "2021-01-13T05:04:17.997916Z",
     "shell.execute_reply.started": "2021-01-13T05:04:17.539999Z"
    }
   },
   "outputs": [
    {
     "name": "stdout",
     "output_type": "stream",
     "text": [
      "Epoch: 0100 cost = 0.327643\n",
      "Epoch: 0200 cost = 0.038349\n",
      "Epoch: 0300 cost = 0.014497\n",
      "Epoch: 0400 cost = 0.008247\n",
      "Epoch: 0500 cost = 0.005524\n",
      "[['i', 'like'], ['i', 'love'], ['i', 'hate'], ['you', 'like'], ['you', 'love'], ['you', 'hate']] -> ['dog', 'coffee', 'milk', 'cat', 'milk', 'coffee']\n"
     ]
    }
   ],
   "source": [
    "for epoch in range(500):\n",
    "    hidden = torch.zeros(1, batch_size, n_hidden, requires_grad = True)\n",
    "    cell = torch.zeros(1, batch_size, n_hidden, requires_grad = True)\n",
    "    output = model((hidden, cell), input_batch)\n",
    "    loss = criterion(output, target_batch)\n",
    "    \n",
    "    if (epoch + 1) % 100 == 0:\n",
    "        print('Epoch:', '%04d' % (epoch + 1), 'cost =', '{:6f}'.format(loss))\n",
    "        \n",
    "    optimizer.zero_grad()\n",
    "    loss.backward()\n",
    "    optimizer.step()\n",
    "    \n",
    "input = [sen.split()[:2] for sen in sentences]\n",
    "\n",
    "hidden = torch.zeros(1, batch_size, n_hidden, requires_grad = True)\n",
    "cell = torch.zeros(1, batch_size, n_hidden, requires_grad = True)\n",
    "predict = model((hidden, cell), input_batch).data.max(1, keepdim = True)[1]\n",
    "print([sen.split()[:2] for sen in sentences], '->', [number_dict[n.item()] for n in predict.squeeze()])"
   ]
  }
 ],
 "metadata": {
  "kernelspec": {
   "display_name": "Python 3",
   "language": "python",
   "name": "python3"
  },
  "language_info": {
   "codemirror_mode": {
    "name": "ipython",
    "version": 3
   },
   "file_extension": ".py",
   "mimetype": "text/x-python",
   "name": "python",
   "nbconvert_exporter": "python",
   "pygments_lexer": "ipython3",
   "version": "3.8.5"
  }
 },
 "nbformat": 4,
 "nbformat_minor": 4
}
